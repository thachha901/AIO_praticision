{
  "nbformat": 4,
  "nbformat_minor": 0,
  "metadata": {
    "colab": {
      "provenance": []
    },
    "kernelspec": {
      "name": "python3",
      "display_name": "Python 3"
    },
    "language_info": {
      "name": "python"
    }
  },
  "cells": [
    {
      "cell_type": "code",
      "source": [
        "#Read File"
      ],
      "metadata": {
        "id": "9HH5uSWSUZQD"
      },
      "execution_count": 31,
      "outputs": []
    },
    {
      "cell_type": "code",
      "source": [
        "a_file = open(\"/content/data.txt\", \"r\")\n",
        "data = a_file.read()\n",
        "a_file.close()\n",
        "print(data)"
      ],
      "metadata": {
        "colab": {
          "base_uri": "https://localhost:8080/"
        },
        "id": "UW3tgh6gTb8F",
        "outputId": "9d75e765-b3a1-4ea3-acc5-26fb069f353c"
      },
      "execution_count": 32,
      "outputs": [
        {
          "output_type": "stream",
          "name": "stdout",
          "text": [
            "Python is a high-level, interpreted, general-purpose programming language. Its design philosophy emphasizes code readability with the use of significant indentation. Python is dynamically-typed and garbage-collected.  It supports multiple programming paradigms, including structured, object-oriented and functional programming.\n"
          ]
        }
      ]
    },
    {
      "cell_type": "code",
      "execution_count": 33,
      "metadata": {
        "id": "ewnLBUPoTOBA"
      },
      "outputs": [],
      "source": [
        "def standardize(data):\n",
        "  data = data.replace('.', '')\n",
        "  data = data.replace(',', '')\n",
        "  data = data.replace(':', '')\n",
        "  data = data.replace('-', ' ')\n",
        "  data = data.lower()\n",
        "  data = data.split()\n",
        "\n",
        "\n",
        "  return data\n"
      ]
    },
    {
      "cell_type": "code",
      "source": [
        "data = standardize(data)\n",
        "print(data)"
      ],
      "metadata": {
        "colab": {
          "base_uri": "https://localhost:8080/"
        },
        "id": "pIvyI38gVCS0",
        "outputId": "53d50672-7d03-47d7-ab3d-2196634f87ff"
      },
      "execution_count": 34,
      "outputs": [
        {
          "output_type": "stream",
          "name": "stdout",
          "text": [
            "['python', 'is', 'a', 'high', 'level', 'interpreted', 'general', 'purpose', 'programming', 'language', 'its', 'design', 'philosophy', 'emphasizes', 'code', 'readability', 'with', 'the', 'use', 'of', 'significant', 'indentation', 'python', 'is', 'dynamically', 'typed', 'and', 'garbage', 'collected', 'it', 'supports', 'multiple', 'programming', 'paradigms', 'including', 'structured', 'object', 'oriented', 'and', 'functional', 'programming']\n"
          ]
        }
      ]
    },
    {
      "cell_type": "code",
      "source": [
        "def vectorization(data):\n",
        "  data = set(data)\n",
        "\n",
        "  return { value:index for index, value in enumerate(data)}"
      ],
      "metadata": {
        "id": "x3VDAvLLVdWf"
      },
      "execution_count": 37,
      "outputs": []
    },
    {
      "cell_type": "code",
      "source": [
        "data = vectorization(data)\n",
        "print(data)"
      ],
      "metadata": {
        "colab": {
          "base_uri": "https://localhost:8080/"
        },
        "id": "c9vdgOJ0W3LU",
        "outputId": "4301ce32-9a47-4980-8e8a-e78d875642c6"
      },
      "execution_count": 38,
      "outputs": [
        {
          "output_type": "stream",
          "name": "stdout",
          "text": [
            "{'level': 0, 'with': 1, 'object': 2, 'general': 3, 'design': 4, 'is': 5, 'philosophy': 6, 'its': 7, 'indentation': 8, 'paradigms': 9, 'programming': 10, 'typed': 11, 'purpose': 12, 'multiple': 13, 'functional': 14, 'including': 15, 'python': 16, 'readability': 17, 'code': 18, 'supports': 19, 'dynamically': 20, 'collected': 21, 'language': 22, 'emphasizes': 23, 'and': 24, 'oriented': 25, 'garbage': 26, 'high': 27, 'the': 28, 'use': 29, 'of': 30, 'a': 31, 'it': 32, 'structured': 33, 'significant': 34, 'interpreted': 35}\n"
          ]
        }
      ]
    },
    {
      "cell_type": "code",
      "source": [
        "word = 'python is a programming language'\n",
        "word = standardize(word)\n",
        "word = vectorization(word)\n",
        "for words in word:\n",
        "  print(data[words])"
      ],
      "metadata": {
        "colab": {
          "base_uri": "https://localhost:8080/"
        },
        "id": "HqZ4LmzIW5_P",
        "outputId": "e59084d6-dd07-42a4-b7b7-34d8939e7f13"
      },
      "execution_count": 41,
      "outputs": [
        {
          "output_type": "stream",
          "name": "stdout",
          "text": [
            "31\n",
            "10\n",
            "22\n",
            "5\n",
            "16\n"
          ]
        }
      ]
    },
    {
      "cell_type": "code",
      "source": [],
      "metadata": {
        "id": "sDz4yI9zZJiN"
      },
      "execution_count": 40,
      "outputs": []
    }
  ]
}